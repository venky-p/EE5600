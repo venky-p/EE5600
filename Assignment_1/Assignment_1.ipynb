{
  "nbformat": 4,
  "nbformat_minor": 0,
  "metadata": {
    "colab": {
      "name": "Assignment_1.ipynb",
      "provenance": [],
      "collapsed_sections": []
    },
    "kernelspec": {
      "name": "python3",
      "display_name": "Python 3"
    },
    "language_info": {
      "name": "python"
    }
  },
  "cells": [
    {
      "cell_type": "code",
      "metadata": {
        "id": "5bWOxlVz-e3V"
      },
      "source": [
        "import numpy as np\n",
        "import matplotlib.pyplot as plt"
      ],
      "execution_count": 48,
      "outputs": []
    },
    {
      "cell_type": "code",
      "metadata": {
        "id": "mdpdMEHL-75E"
      },
      "source": [
        "#Generate line points\n",
        "def line_gen(P,Q):\n",
        "  len =10\n",
        "  x_PQ = np.zeros((2,len))\n",
        "  lam_1 = np.linspace(0,1,len)\n",
        "  for i in range(len):\n",
        "    temp1 = P + lam_1[i]*(Q-P)\n",
        "    x_PQ[:,i]= temp1.T\n",
        "  return x_PQ"
      ],
      "execution_count": 49,
      "outputs": []
    },
    {
      "cell_type": "code",
      "metadata": {
        "colab": {
          "base_uri": "https://localhost:8080/"
        },
        "id": "2-Lm8URxbygA",
        "outputId": "4e9c0615-4ef5-4a59-eebc-b38b4277acc6"
      },
      "source": [
        "a = float (input (\"Enter a value: \"))\n",
        "c = float (input (\"Enter c value: \"))"
      ],
      "execution_count": 50,
      "outputs": [
        {
          "name": "stdout",
          "output_type": "stream",
          "text": [
            "Enter a value: 2\n",
            "Enter c value: 4\n"
          ]
        }
      ]
    },
    {
      "cell_type": "code",
      "metadata": {
        "id": "JJV4qpyv-7_M",
        "colab": {
          "base_uri": "https://localhost:8080/",
          "height": 279
        },
        "outputId": "6b6c9555-076c-4218-b0ae-ddf05c3d76b6"
      },
      "source": [
        "u=np.array([a,c])\n",
        "A=np.array([[1,0],[1,1]])\n",
        "B=np.array([[1,0],[0,1]])\n",
        "C=np.array([[-1,0],[-1,1]])\n",
        "P=A@u\n",
        "Q=B@u\n",
        "R=C@u\n",
        "#Generating all lines\n",
        "x_PQ = line_gen(P,Q)\n",
        "x_QR = line_gen(Q,R)\n",
        "x_RP = line_gen(R,P)\n",
        "\n",
        "#Plotting all lines\n",
        "plt.plot(x_PQ[0,:],x_PQ[1,:],label='$PQ$')\n",
        "plt.plot(x_QR[0,:],x_QR[1,:],label='$QR$')\n",
        "plt.plot(x_RP[0,:],x_RP[1,:],label='$RP$')\n",
        "\n",
        "plt.plot(P[0], P[1], 'o')\n",
        "plt.text(P[0] * (1+0.025), P[1]*(1), 'P')\n",
        "plt.plot(Q[0], Q[1], 'o')\n",
        "plt.text(Q[0] * (1+0.025), Q[1]*(1) , 'Q')\n",
        "plt.plot(R[0], R[1], 'o')\n",
        "plt.text(R[0] * (1+0.07), R[1]*(1) , 'R')\n",
        "\n",
        "plt.xlabel('$x$')\n",
        "plt.ylabel('$y$')\n",
        "plt.legend(loc='best')\n",
        "plt.grid()\n",
        "plt.savefig('Assignment_1.pdf')\n",
        "plt.show()\n"
      ],
      "execution_count": 51,
      "outputs": [
        {
          "output_type": "display_data",
          "data": {
            "image/png": "[encoded data removed]",
            "text/plain": [
              "<Figure size 432x288 with 1 Axes>"
            ]
          },
          "metadata": {
            "needs_background": "light"
          }
        }
      ]
    },
    {
      "cell_type": "code",
      "metadata": {
        "colab": {
          "base_uri": "https://localhost:8080/"
        },
        "id": "cL7P0otMu2M3",
        "outputId": "32d65183-b0b7-4fef-c26a-4e0a18f7f104"
      },
      "source": [
        "Cross_product = np.cross(P-Q,P-R)\n",
        "Area= (1/2)*(np.linalg.norm(Cross_product))\n",
        "print('Area of the Triangle is {:.2f} square units'.format(Area))"
      ],
      "execution_count": 52,
      "outputs": [
        {
          "output_type": "stream",
          "name": "stdout",
          "text": [
            "Area of the Triangle is 4.00 square units\n"
          ]
        }
      ]
    }
  ]
}